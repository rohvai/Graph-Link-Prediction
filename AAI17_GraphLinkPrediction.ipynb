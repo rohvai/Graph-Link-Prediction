{
 "cells": [
  {
   "cell_type": "markdown",
   "metadata": {
    "colab_type": "text",
    "id": "hqAa4sH-FY7N"
   },
   "source": [
    "Setup Google Colab and Dataset"
   ]
  },
  {
   "cell_type": "code",
   "execution_count": 0,
   "metadata": {
    "colab": {},
    "colab_type": "code",
    "id": "pJl4VXWAjJoX"
   },
   "outputs": [],
   "source": [
    "# Mount google drive to colab\n",
    "from google.colab import drive\n",
    "drive.mount('/content/drive/')"
   ]
  },
  {
   "cell_type": "code",
   "execution_count": 0,
   "metadata": {
    "colab": {},
    "colab_type": "code",
    "id": "hNyGlijAE2IQ"
   },
   "outputs": [],
   "source": [
    "# Download the training dataset\n",
    "!wget --header=\"Host: doc-08-3o-docs.googleusercontent.com\" --header=\"User-Agent: Mozilla/5.0 (Windows NT 10.0; Win64; x64) AppleWebKit/537.36 (KHTML, like Gecko) Chrome/83.0.4103.61 Safari/537.36\" --header=\"Accept: text/html,application/xhtml+xml,application/xml;q=0.9,image/webp,image/apng,*/*;q=0.8,application/signed-exchange;v=b3;q=0.9\" --header=\"Accept-Language: en-IN,en-GB;q=0.9,en-US;q=0.8,en;q=0.7\" --header=\"Referer: https://drive.google.com/drive/folders/1pEBmIl1tbuwYrsfeUv2KDz8a2gR0Fjxe\" --header=\"Cookie: AUTH_nnb6jka5tpm79utnnl32qa140lcrgttl_nonce=pm00v4qjkjqnc\" --header=\"Connection: keep-alive\" \"https://doc-08-3o-docs.googleusercontent.com/docs/securesc/7kg9pm26jg8sdtodrd2jal778lctr8oe/tdr1p4kvodr6to9dchp4qbvcf6j7mks1/1591018200000/06629147635963609455/02518230046088755184/1l1adJnTgeHULVuoLdTRyqi25-z6shBSL?e=download&authuser=0&nonce=pm00v4qjkjqnc&user=02518230046088755184&hash=n3pmg5il46prtr9fn2lfrn8eauduf4gl\" -c -O 'train.csv'"
   ]
  },
  {
   "cell_type": "code",
   "execution_count": 0,
   "metadata": {
    "colab": {},
    "colab_type": "code",
    "id": "NhYjtbx2GtIm"
   },
   "outputs": [],
   "source": [
    "# Copy the file to the project directory on google drive\n",
    "!cp train.csv /content/drive/My\\ Drive/Colab\\ Notebooks/FacebookChallenge/"
   ]
  },
  {
   "cell_type": "code",
   "execution_count": 0,
   "metadata": {
    "colab": {},
    "colab_type": "code",
    "id": "YljqORjfFuMF"
   },
   "outputs": [],
   "source": [
    "# Change the current working directory of Google Colab\n",
    "import os\n",
    "os.chdir(\"/content/drive/My Drive/Colab Notebooks/FacebookChallenge/\")"
   ]
  },
  {
   "cell_type": "code",
   "execution_count": 0,
   "metadata": {
    "colab": {},
    "colab_type": "code",
    "id": "_8L7xuViKaRh"
   },
   "outputs": [],
   "source": [
    "# Remove the header\n",
    "with open(\"train.csv\",'r') as f:\n",
    "    with open(\"data.csv\",'w') as f1:\n",
    "        next(f)\n",
    "        for line in f:\n",
    "            f1.write(line)"
   ]
  },
  {
   "cell_type": "code",
   "execution_count": 1,
   "metadata": {
    "colab": {
     "base_uri": "https://localhost:8080/",
     "height": 72
    },
    "colab_type": "code",
    "id": "CpDtTdcSHov9",
    "outputId": "128d8d1c-bef4-40e4-e7df-da430c069653"
   },
   "outputs": [
    {
     "name": "stderr",
     "output_type": "stream",
     "text": [
      "/usr/local/lib/python3.6/dist-packages/statsmodels/tools/_testing.py:19: FutureWarning: pandas.util.testing is deprecated. Use the functions in the public API at pandas.testing instead.\n",
      "  import pandas.util.testing as tm\n"
     ]
    }
   ],
   "source": [
    "# Imports\n",
    "import networkx as nx\n",
    "import os\n",
    "from warnings import filterwarnings\n",
    "import random\n",
    "from random import randint\n",
    "from pickle import dump,load\n",
    "import numpy as np\n",
    "import pandas as pd\n",
    "from tqdm import tqdm\n",
    "from math import sqrt\n",
    "from scipy.sparse.linalg import svds\n",
    "from numpy import memmap\n",
    "from xgboost import XGBClassifier\n",
    "from sklearn.metrics import accuracy_score\n",
    "from sklearn.model_selection import train_test_split\n",
    "from hyperopt import STATUS_OK,hp,tpe,Trials,fmin\n",
    "from sklearn.metrics import confusion_matrix\n",
    "import seaborn as sns\n",
    "import matplotlib.pyplot as plt\n",
    "from sklearn.metrics import f1_score\n",
    "\n",
    "# Global Params\n",
    "os.chdir(\"/content/drive/My Drive/Colab Notebooks/FacebookChallenge/\")\n",
    "filterwarnings(\"ignore\")\n",
    "random.seed(10)"
   ]
  },
  {
   "cell_type": "markdown",
   "metadata": {
    "colab_type": "text",
    "id": "neQvbIHiJSFs"
   },
   "source": [
    "Load the pre-computer features"
   ]
  },
  {
   "cell_type": "code",
   "execution_count": 0,
   "metadata": {
    "colab": {},
    "colab_type": "code",
    "id": "ZX-h-pjeNCcr"
   },
   "outputs": [],
   "source": [
    "# Function to store numpy array to the disk\n",
    "def writeVar(myVar,var_name,dat_type):\n",
    "  mem_map = np.memmap(var_name, mode='w+', shape=myVar.shape,dtype=dat_type)\n",
    "  mem_map[:] = myVar[:]\n",
    "  mem_map.flush()"
   ]
  },
  {
   "cell_type": "code",
   "execution_count": 0,
   "metadata": {
    "colab": {},
    "colab_type": "code",
    "id": "i-BhQj2kjm7o"
   },
   "outputs": [],
   "source": [
    "graph = load(open('graph.p','rb'))"
   ]
  },
  {
   "cell_type": "code",
   "execution_count": 0,
   "metadata": {
    "colab": {},
    "colab_type": "code",
    "id": "H_WEoJAKVRmT"
   },
   "outputs": [],
   "source": [
    "num_edges = len(np.genfromtxt('data.csv',delimiter=','))\n",
    "num_nodes = len(set(np.genfromtxt('data.csv',delimiter=',').ravel()))"
   ]
  },
  {
   "cell_type": "code",
   "execution_count": 0,
   "metadata": {
    "colab": {},
    "colab_type": "code",
    "id": "9Njtb7SMOUiJ"
   },
   "outputs": [],
   "source": [
    "# Load the data i.e. source,destination nodes\n",
    "data = np.memmap(\"edge_data.dat\", mode='r', shape=(2*num_edges,2),dtype='uint32')\n",
    "\n",
    "# Load their labels i.e. whether 1 or 0\n",
    "labels = np.memmap(\"edge_label.dat\", mode='r', shape=(data.shape[0],1),dtype='uint8')"
   ]
  },
  {
   "cell_type": "code",
   "execution_count": 0,
   "metadata": {
    "colab": {},
    "colab_type": "code",
    "id": "yawRkBH6I_BC"
   },
   "outputs": [],
   "source": [
    "# Load the precomputed dataset\n",
    "# SKIP NEXT CELL IF PRECOMPUTED ALREADY\n",
    "\n",
    "# Load the precomputed Jaccard distances\n",
    "\n",
    "# Load jaccard distance for followers\n",
    "jaccard_1 = np.memmap(\"jacc1.dat\", mode='r', shape=labels.shape,dtype='float32')\n",
    "\n",
    "# Load jaccard distance for followees\n",
    "jaccard_2 = np.memmap(\"jacc2.dat\", mode='r', shape=labels.shape,dtype='float32')\n",
    "\n",
    "# Load the cosine similarity for followers\n",
    "cosine1 = np.memmap(\"cos1.dat\", mode='r', shape=labels.shape,dtype='float32')\n",
    "\n",
    "# Load the cosine similarity for followees\n",
    "cosine2 = np.memmap(\"cos2.dat\", mode='r', shape=labels.shape,dtype='float32')\n",
    "\n",
    "# Load the page rank features\n",
    "page_rank_features = np.memmap(\"page_ran.dat\", mode='r', shape=data.shape,dtype='float32')\n",
    "\n",
    "# Load the shortest paths\n",
    "shortest_path = np.memmap(\"shortest_path.dat\", mode='r', shape=labels.shape,dtype='int32')\n",
    "\n",
    "# Load feature: whether belongs to same community\n",
    "community = np.memmap(\"community.dat\", mode='r', shape=labels.shape,dtype='uint8')\n",
    "\n",
    "# Load the adamic features\n",
    "adar = np.memmap(\"adar.dat\", mode='r+', shape=labels.shape,dtype='float32')\n",
    "\n",
    "# Load follows back\n",
    "follows_back = np.memmap(\"follows_back.dat\", mode='r', shape=labels.shape,dtype='uint8')\n",
    "\n",
    "# Load the kartz features\n",
    "kartz_features = np.memmap(\"kartz.dat\", mode='r', shape=data.shape,dtype='float32')\n",
    "\n",
    "# Load the hub scores\n",
    "hubs_scores = np.memmap(\"hubs.dat\", mode='r', shape=data.shape,dtype='float32')\n",
    "\n",
    "# Load the authority scores\n",
    "authority_scores = np.memmap(\"authority.dat\", mode='r', shape=data.shape,dtype='float32')\n",
    "\n",
    "# load source & destination followers\n",
    "followers = np.memmap(\"followers.dat\", mode='r', shape=data.shape,dtype='uint32')\n",
    "\n",
    "# load source & destination followees\n",
    "followees = np.memmap(\"followees.dat\", mode='r', shape=data.shape,dtype='uint32')\n",
    "\n",
    "# Load the SVD Features\n",
    "svd_features = np.memmap(\"svd_features.dat\", mode='r', shape=(data.shape[0],24),dtype='float32')\n",
    "\n",
    "# Load the preferential attachment feature\n",
    "preferential = np.memmap(\"pref.dat\", mode='r', shape=(labels.shape),dtype='uint32')\n",
    "\n",
    "# Load the preferential attachment feature\n",
    "svd_dot = np.memmap(\"svd_dot.dat\", mode='r', shape=(data.shape),dtype='float32')"
   ]
  },
  {
   "cell_type": "code",
   "execution_count": 0,
   "metadata": {
    "colab": {},
    "colab_type": "code",
    "id": "zD3cLO1RoNH1"
   },
   "outputs": [],
   "source": [
    "# My list of features\n",
    "FEATURES = ['jaccard_followers','jaccard_followees','cosine_followers','cosine_followees','page_rank_source',\n",
    "            'page_rank_dest','shortest_path','belongs_to_same_community','adamic','does_follow_back','kartz_source',\n",
    "            'kartz_dest','hubs_source','hubs_dest','authority_source','authority_dest','followers_source','followers_dest',\n",
    "            'followees_source','followees_dest','svd_u_s_1', 'svd_u_s_2', 'svd_u_s_3', 'svd_u_s_4',\n",
    "            'svd_u_s_5', 'svd_u_s_6', 'svd_u_d_1', 'svd_u_d_2', 'svd_u_d_3',\n",
    "            'svd_u_d_4', 'svd_u_d_5', 'svd_u_d_6', 'svd_v_s_1', 'svd_v_s_2',\n",
    "            'svd_v_s_3', 'svd_v_s_4', 'svd_v_s_5', 'svd_v_s_6', 'svd_v_d_1',\n",
    "            'svd_v_d_2', 'svd_v_d_3', 'svd_v_d_4', 'svd_v_d_5', 'svd_v_d_6',\n",
    "            'svd_dot_u','svd_dot_v','preferential']"
   ]
  },
  {
   "cell_type": "code",
   "execution_count": 0,
   "metadata": {
    "colab": {},
    "colab_type": "code",
    "id": "HzFU4UOmVKre"
   },
   "outputs": [],
   "source": [
    "combined_features = np.memmap(\"combined_features.dat\", mode='r', shape=(18875038, 47),dtype='float32')"
   ]
  },
  {
   "cell_type": "markdown",
   "metadata": {
    "colab_type": "text",
    "id": "09Vuiv-VB20I"
   },
   "source": [
    "Converting the problem to a classification problem"
   ]
  },
  {
   "cell_type": "code",
   "execution_count": 0,
   "metadata": {
    "colab": {},
    "colab_type": "code",
    "id": "OF6fQxY5IZJW"
   },
   "outputs": [],
   "source": [
    "# Load the graph\n",
    "graph = nx.read_edgelist('data.csv',delimiter=',',create_using=nx.DiGraph(),nodetype=int)\n",
    "print(nx.info(graph))\n",
    "dump(graph,open('graph.p','wb'))"
   ]
  },
  {
   "cell_type": "code",
   "execution_count": 0,
   "metadata": {
    "colab": {},
    "colab_type": "code",
    "id": "l73A_t6ie3uD"
   },
   "outputs": [],
   "source": [
    "# Preparing the dataset\n",
    "\n",
    "true_edges = np.genfromtxt(\"data.csv\",delimiter=\",\",dtype=int)\n",
    "false_edges = np.zeros((num_edges,2),dtype=int)\n",
    "\n",
    "true_edges_dict = dict()\n",
    "false_edges_set = set()\n",
    "\n",
    "# Create a dictionary of existing edges in the graph\n",
    "for edge in true_edges:\n",
    "  true_edges_dict[(edge[0],edge[1])] = 1\n",
    "\n",
    "# Now add the missing edges\n",
    "while(len(false_edges_set) < num_edges):\n",
    "  a,b = randint(1,num_nodes),randint(1,num_nodes)\n",
    "  isEdge = true_edges_dict.get((a,b),-1)\n",
    "\n",
    "  if isEdge==-1 and a!=b :\n",
    "    false_edges_set.add((a,b))\n",
    "  else:\n",
    "    continue\n",
    "\n",
    "for i,edge in enumerate(false_edges_set):\n",
    "  false_edges[i][0],false_edges[i][1] = edge[0],edge[1]\n",
    "\n",
    "data = np.vstack((true_edges,false_edges))\n",
    "labels = np.vstack( ( np.ones((num_edges,1)) , np.zeros((num_edges,1)) ) )\n",
    "\n",
    "writeVar(data,\"edge_data.dat\",'uint32')\n",
    "writeVar(labels,\"edge_label.dat\",'uint8')\n"
   ]
  },
  {
   "cell_type": "markdown",
   "metadata": {
    "colab_type": "text",
    "id": "8GjS6PSBB4oI"
   },
   "source": [
    "Jaccard Distances"
   ]
  },
  {
   "cell_type": "code",
   "execution_count": 0,
   "metadata": {
    "colab": {},
    "colab_type": "code",
    "id": "_7uW1HiAB7U2"
   },
   "outputs": [],
   "source": [
    "def jaccard_of_followers(a,b):\n",
    "  succ_a = set(graph.successors(a))\n",
    "  succ_b = set(graph.successors(b))\n",
    "\n",
    "  if len(succ_a)==0 or len(succ_b)==0:\n",
    "    return 0\n",
    "  else:\n",
    "    dist = len(succ_a.intersection(succ_b))/len(succ_a.union(succ_b))\n",
    "    return dist"
   ]
  },
  {
   "cell_type": "code",
   "execution_count": 0,
   "metadata": {
    "colab": {},
    "colab_type": "code",
    "id": "-BeFtz8cC14G"
   },
   "outputs": [],
   "source": [
    "def jaccard_of_followees(a,b):\n",
    "  succ_a = set(graph.predecessors(a))\n",
    "  succ_b = set(graph.predecessors(b))\n",
    "\n",
    "  if len(succ_a)==0 or len(succ_b)==0:\n",
    "    return 0\n",
    "  else:\n",
    "    dist = len(succ_a.intersection(succ_b))/len(succ_a.union(succ_b))\n",
    "    return dist"
   ]
  },
  {
   "cell_type": "code",
   "execution_count": 0,
   "metadata": {
    "colab": {
     "base_uri": "https://localhost:8080/",
     "height": 35
    },
    "colab_type": "code",
    "id": "feuwnzFPDKVo",
    "outputId": "fc50aba6-5904-4b3b-c197-c5a3c96a65ec"
   },
   "outputs": [
    {
     "name": "stderr",
     "output_type": "stream",
     "text": [
      "18875038it [11:44, 26791.81it/s]\n"
     ]
    }
   ],
   "source": [
    "jaccard_1 = np.zeros(labels.shape)\n",
    "jaccard_2 = np.zeros(labels.shape)\n",
    "\n",
    "for i,edge in tqdm(enumerate(data)):\n",
    "  a,b = edge[0],edge[1]\n",
    "  jaccard_1[i],jaccard_2[i] = jaccard_of_followers(a,b),jaccard_of_followees(a,b)\n",
    "\n",
    "\n",
    "writeVar(jaccard_1,\"jacc1.dat\",'float32')\n",
    "writeVar(jaccard_2,\"jacc2.dat\",'float32')"
   ]
  },
  {
   "cell_type": "markdown",
   "metadata": {
    "colab_type": "text",
    "id": "Pc4Hj4wmJsGa"
   },
   "source": [
    "Cosine Similarity"
   ]
  },
  {
   "cell_type": "code",
   "execution_count": 0,
   "metadata": {
    "colab": {},
    "colab_type": "code",
    "id": "IXCE6NUBJuFO"
   },
   "outputs": [],
   "source": [
    "def cosine_followers(a,b):\n",
    "  succ_a = set(graph.successors(a))\n",
    "  succ_b = set(graph.successors(b))\n",
    "\n",
    "  if len(succ_a)==0 or len(succ_b)==0:\n",
    "    return 0\n",
    "  else:\n",
    "    sim = len(succ_a.intersection(succ_b)) / ( sqrt(len(succ_a) * len(succ_b)) )\n",
    "    return sim"
   ]
  },
  {
   "cell_type": "code",
   "execution_count": 0,
   "metadata": {
    "colab": {},
    "colab_type": "code",
    "id": "IiW8AyGfKjqg"
   },
   "outputs": [],
   "source": [
    "def cosine_followees(a,b):\n",
    "  succ_a = set(graph.predecessors(a))\n",
    "  succ_b = set(graph.predecessors(b))\n",
    "\n",
    "  if len(succ_a)==0 or len(succ_b)==0:\n",
    "    return 0\n",
    "  else:\n",
    "    sim = len(succ_a.intersection(succ_b)) / ( sqrt(len(succ_a) * len(succ_b)) )\n",
    "    return sim"
   ]
  },
  {
   "cell_type": "code",
   "execution_count": 0,
   "metadata": {
    "colab": {
     "base_uri": "https://localhost:8080/",
     "height": 35
    },
    "colab_type": "code",
    "id": "i0wG7XOFKtiP",
    "outputId": "5ccc6590-8ed8-4b7e-bc16-4b7ba8580849"
   },
   "outputs": [
    {
     "name": "stderr",
     "output_type": "stream",
     "text": [
      "18875038it [10:59, 28601.16it/s]\n"
     ]
    }
   ],
   "source": [
    "cosine1 = np.zeros(labels.shape)\n",
    "cosine2 = np.zeros(labels.shape)\n",
    "\n",
    "for i,edge in tqdm(enumerate(data)):\n",
    "  a,b = edge[0],edge[1]\n",
    "  cosine1[i],cosine2[i] = cosine_followers(a,b),cosine_followees(a,b)\n",
    "\n",
    "writeVar(cosine1,\"cos1.dat\",'float32')\n",
    "writeVar(cosine2,\"cos2.dat\",'float32')"
   ]
  },
  {
   "cell_type": "markdown",
   "metadata": {
    "colab_type": "text",
    "id": "Gzll4rRv55QV"
   },
   "source": [
    "Page Ranking"
   ]
  },
  {
   "cell_type": "code",
   "execution_count": 0,
   "metadata": {
    "colab": {},
    "colab_type": "code",
    "id": "3lHWmPvG56yj"
   },
   "outputs": [],
   "source": [
    "page_rank_dict = nx.pagerank(graph, alpha=0.85)"
   ]
  },
  {
   "cell_type": "code",
   "execution_count": 0,
   "metadata": {
    "colab": {},
    "colab_type": "code",
    "id": "Hqi8_sGM8NF7"
   },
   "outputs": [],
   "source": [
    "page_rank_features = np.zeros(data.shape)\n",
    "for i,edge in enumerate(data):\n",
    "  source_rank = page_rank_dict.get(edge[0])\n",
    "  dest_rank = page_rank_dict.get(edge[1])\n",
    "  page_rank_features[i][0] = source_rank\n",
    "  page_rank_features[i][1] = dest_rank\n",
    "writeVar(page_rank_features,\"page_ran.dat\",'float32')"
   ]
  },
  {
   "cell_type": "markdown",
   "metadata": {
    "colab_type": "text",
    "id": "onIANb1x_udK"
   },
   "source": [
    "Shortest Path"
   ]
  },
  {
   "cell_type": "code",
   "execution_count": 0,
   "metadata": {
    "colab": {},
    "colab_type": "code",
    "id": "oR2RhSaK_0-i"
   },
   "outputs": [],
   "source": [
    "shortest_path = np.zeros(labels.shape,dtype='int32')"
   ]
  },
  {
   "cell_type": "code",
   "execution_count": 0,
   "metadata": {
    "colab": {},
    "colab_type": "code",
    "id": "JwDzwuWV8lXu"
   },
   "outputs": [],
   "source": [
    "def get_shortest_path(a,b):\n",
    "  try:\n",
    "    if graph.has_edge(a,b):\n",
    "      graph.remove_edge(a,b)\n",
    "      dist = nx.shortest_path_length(graph,source=a,target=b)\n",
    "      graph.add_edge(a,b)\n",
    "      return(-1*dist)\n",
    "    else:\n",
    "      dist = nx.shortest_path_length(graph,source=a,target=b)\n",
    "      return(-1*dist)\n",
    "  except:\n",
    "    return -1"
   ]
  },
  {
   "cell_type": "code",
   "execution_count": 0,
   "metadata": {
    "colab": {
     "base_uri": "https://localhost:8080/",
     "height": 35
    },
    "colab_type": "code",
    "id": "9OIckRXLFTGN",
    "outputId": "690997cc-1fa5-4432-e4c6-9126b40391ee"
   },
   "outputs": [
    {
     "name": "stderr",
     "output_type": "stream",
     "text": [
      "18875038it [2:41:32, 1947.42it/s]\n"
     ]
    }
   ],
   "source": [
    "for i,edge in tqdm(enumerate(data)):\n",
    "  shortest_path[i] = get_shortest_path(edge[0],edge[1])\n"
   ]
  },
  {
   "cell_type": "code",
   "execution_count": 0,
   "metadata": {
    "colab": {},
    "colab_type": "code",
    "id": "0KsW75tOyBpu"
   },
   "outputs": [],
   "source": [
    "writeVar(shortest_path,\"shortest_path.dat\",'int32')"
   ]
  },
  {
   "cell_type": "markdown",
   "metadata": {
    "colab_type": "text",
    "id": "rhbxPAzTGmvs"
   },
   "source": [
    "Do the two nodes belong to same community ?"
   ]
  },
  {
   "cell_type": "code",
   "execution_count": 0,
   "metadata": {
    "colab": {},
    "colab_type": "code",
    "id": "MPvAAAMfGsxw"
   },
   "outputs": [],
   "source": [
    "community = np.zeros(labels.shape,dtype='uint8')"
   ]
  },
  {
   "cell_type": "code",
   "execution_count": 0,
   "metadata": {
    "colab": {},
    "colab_type": "code",
    "id": "exXZWqN4Gysn"
   },
   "outputs": [],
   "source": [
    "wcc = list(nx.weakly_connected_components(graph))"
   ]
  },
  {
   "cell_type": "code",
   "execution_count": 0,
   "metadata": {
    "colab": {},
    "colab_type": "code",
    "id": "AdTdjDNWMqWQ"
   },
   "outputs": [],
   "source": [
    "def belongs_to_same_wcc(a,b):\n",
    "  index = []\n",
    "  if graph.has_edge(b,a):\n",
    "      return 1\n",
    "  if graph.has_edge(a,b):\n",
    "          for i in wcc:\n",
    "              if a in i:\n",
    "                  index= i\n",
    "                  break\n",
    "          if (b in index):\n",
    "              graph.remove_edge(a,b)\n",
    "              if get_shortest_path(a,b)==-1:\n",
    "                  graph.add_edge(a,b)\n",
    "                  return 0\n",
    "              else:\n",
    "                  graph.add_edge(a,b)\n",
    "                  return 1\n",
    "          else:\n",
    "              return 0\n",
    "  else:\n",
    "          for i in wcc:\n",
    "              if a in i:\n",
    "                  index= i\n",
    "                  break\n",
    "          if(b in index):\n",
    "              return 1\n",
    "          else:\n",
    "              return 0"
   ]
  },
  {
   "cell_type": "code",
   "execution_count": 0,
   "metadata": {
    "colab": {
     "base_uri": "https://localhost:8080/",
     "height": 35
    },
    "colab_type": "code",
    "id": "AMvfBmklNWQr",
    "outputId": "9d11fb38-62ba-4e82-94ab-af14e3f67f74"
   },
   "outputs": [
    {
     "name": "stderr",
     "output_type": "stream",
     "text": [
      "18875038it [27:03, 11627.66it/s]\n"
     ]
    }
   ],
   "source": [
    "for i,edge in tqdm(enumerate(data)):\n",
    "  a = edge[0]\n",
    "  b = edge[1]\n",
    "  community[i] = belongs_to_same_wcc(a,b)\n",
    "writeVar(community,\"community.dat\",'uint8')"
   ]
  },
  {
   "cell_type": "markdown",
   "metadata": {
    "colab_type": "text",
    "id": "4uOrnxqbLMWq"
   },
   "source": [
    "Adar Index"
   ]
  },
  {
   "cell_type": "code",
   "execution_count": 0,
   "metadata": {
    "colab": {},
    "colab_type": "code",
    "id": "jV5ADohfLOvI"
   },
   "outputs": [],
   "source": [
    "def get_adar(a,b):\n",
    "  adar = 0\n",
    "  common = set(graph.successors(a)).intersection(set(graph.successors(b)))\n",
    "  if len(common) != 0:\n",
    "    for u in common:\n",
    "      adar += 1/(np.log10(len(list(graph.predecessors(u)))))\n",
    "  return adar"
   ]
  },
  {
   "cell_type": "code",
   "execution_count": 0,
   "metadata": {
    "colab": {},
    "colab_type": "code",
    "id": "Lnw-PmrVMmcD"
   },
   "outputs": [],
   "source": [
    "adar = np.zeros(labels.shape)"
   ]
  },
  {
   "cell_type": "code",
   "execution_count": 0,
   "metadata": {
    "colab": {
     "base_uri": "https://localhost:8080/",
     "height": 35
    },
    "colab_type": "code",
    "id": "RSVRyYQKMpyF",
    "outputId": "ea4aeff3-d5ed-4220-ce77-68afd626c1ce"
   },
   "outputs": [
    {
     "name": "stderr",
     "output_type": "stream",
     "text": [
      "18875038it [13:52, 22685.31it/s]\n"
     ]
    }
   ],
   "source": [
    "for i,edge in tqdm(enumerate(data)):\n",
    "  adar[i] = get_adar(edge[0],edge[1])\n",
    "writeVar(adar,\"adar.dat\",'float32')"
   ]
  },
  {
   "cell_type": "markdown",
   "metadata": {
    "colab_type": "text",
    "id": "uO-4LnxcNMtB"
   },
   "source": [
    "Does the person follow back"
   ]
  },
  {
   "cell_type": "code",
   "execution_count": 0,
   "metadata": {
    "colab": {},
    "colab_type": "code",
    "id": "RDYKhNi2NlAs"
   },
   "outputs": [],
   "source": [
    "def does_follow_back(a,b):\n",
    "  if graph.has_edge(b,a):\n",
    "    return 1\n",
    "  else:\n",
    "    return 0"
   ]
  },
  {
   "cell_type": "code",
   "execution_count": 0,
   "metadata": {
    "colab": {
     "base_uri": "https://localhost:8080/",
     "height": 35
    },
    "colab_type": "code",
    "id": "LX0W3SBUNybE",
    "outputId": "faffad0d-6d2a-4610-a9a9-f2a244487280"
   },
   "outputs": [
    {
     "name": "stderr",
     "output_type": "stream",
     "text": [
      "18875038it [04:22, 71843.65it/s]\n"
     ]
    }
   ],
   "source": [
    "follows_back = np.zeros(labels.shape)\n",
    "for i,edge in tqdm(enumerate(data)):\n",
    "  follows_back[i] = does_follow_back(edge[0],edge[1])\n",
    "writeVar(follows_back,\"follows_back.dat\",'uint8')"
   ]
  },
  {
   "cell_type": "markdown",
   "metadata": {
    "colab_type": "text",
    "id": "mb-EmmF1PUJB"
   },
   "source": [
    "Kartz Centrality"
   ]
  },
  {
   "cell_type": "code",
   "execution_count": 0,
   "metadata": {
    "colab": {},
    "colab_type": "code",
    "id": "JnlUvTigPWBp"
   },
   "outputs": [],
   "source": [
    "kartz_dict = nx.katz.katz_centrality(graph,alpha=0.005,beta=1)"
   ]
  },
  {
   "cell_type": "code",
   "execution_count": 0,
   "metadata": {
    "colab": {
     "base_uri": "https://localhost:8080/",
     "height": 35
    },
    "colab_type": "code",
    "id": "ufSle3UaPc_2",
    "outputId": "0fa51b8a-a3a9-4e4f-e423-e5817b32a025"
   },
   "outputs": [
    {
     "name": "stderr",
     "output_type": "stream",
     "text": [
      "18875038it [05:25, 58015.57it/s]\n"
     ]
    }
   ],
   "source": [
    "kartz_features = np.zeros(data.shape)\n",
    "for i,edge in tqdm(enumerate(data)):\n",
    "  source_kartz = kartz_dict.get(edge[0])\n",
    "  dest_kartz = kartz_dict.get(edge[1])\n",
    "  kartz_features[i][0] = source_kartz\n",
    "  kartz_features[i][1] = dest_kartz\n",
    "writeVar(kartz_features,\"kartz.dat\",'float32')"
   ]
  },
  {
   "cell_type": "markdown",
   "metadata": {
    "colab_type": "text",
    "id": "UoRaWdiS2x0h"
   },
   "source": [
    "HITS Score"
   ]
  },
  {
   "cell_type": "code",
   "execution_count": 0,
   "metadata": {
    "colab": {},
    "colab_type": "code",
    "id": "OP8S9pYN2w5L"
   },
   "outputs": [],
   "source": [
    "hubs,authority = nx.hits(graph, max_iter=100, tol=1e-08, nstart=None, normalized=True)"
   ]
  },
  {
   "cell_type": "code",
   "execution_count": 0,
   "metadata": {
    "colab": {
     "base_uri": "https://localhost:8080/",
     "height": 35
    },
    "colab_type": "code",
    "id": "1Qgj__8k23To",
    "outputId": "383a3caa-4d13-4c2e-b5ae-e0e4b532dbb0"
   },
   "outputs": [
    {
     "name": "stderr",
     "output_type": "stream",
     "text": [
      "18875038it [05:33, 56591.08it/s]\n"
     ]
    }
   ],
   "source": [
    "hubs_scores = np.zeros(data.shape)\n",
    "for i,edge in tqdm(enumerate(data)):\n",
    "  source_hubs = hubs.get(edge[0])\n",
    "  dest_hubs = hubs.get(edge[1])\n",
    "  hubs_scores[i][0] = source_hubs\n",
    "  hubs_scores[i][1] = dest_hubs\n",
    "writeVar(hubs_scores,\"hubs.dat\",'float32')"
   ]
  },
  {
   "cell_type": "code",
   "execution_count": 0,
   "metadata": {
    "colab": {
     "base_uri": "https://localhost:8080/",
     "height": 35
    },
    "colab_type": "code",
    "id": "GmCN9qrYQWrt",
    "outputId": "6bb790e5-7fcf-4956-80f6-f0c66a624f8e"
   },
   "outputs": [
    {
     "name": "stderr",
     "output_type": "stream",
     "text": [
      "18875038it [05:30, 57030.24it/s]\n"
     ]
    }
   ],
   "source": [
    "authority_scores = np.zeros(data.shape)\n",
    "for i,edge in tqdm(enumerate(data)):\n",
    "  source_authority = authority.get(edge[0])\n",
    "  dest_authority = authority.get(edge[1])\n",
    "  authority_scores[i][0] = source_authority\n",
    "  authority_scores[i][1] = dest_authority\n",
    "writeVar(authority_scores,\"authority.dat\",'float32')"
   ]
  },
  {
   "cell_type": "markdown",
   "metadata": {
    "colab_type": "text",
    "id": "4XrszHDeIX43"
   },
   "source": [
    "Followers of Source and destination"
   ]
  },
  {
   "cell_type": "code",
   "execution_count": 0,
   "metadata": {
    "colab": {},
    "colab_type": "code",
    "id": "xIMw0YcXIaUR"
   },
   "outputs": [],
   "source": [
    "followers = np.zeros(data.shape)"
   ]
  },
  {
   "cell_type": "code",
   "execution_count": 0,
   "metadata": {
    "colab": {
     "base_uri": "https://localhost:8080/",
     "height": 35
    },
    "colab_type": "code",
    "id": "fMOzTR6UIdrR",
    "outputId": "cd678a20-b723-496f-cb0c-424f6d206da7"
   },
   "outputs": [
    {
     "name": "stderr",
     "output_type": "stream",
     "text": [
      "18875038it [07:14, 43477.78it/s]\n"
     ]
    }
   ],
   "source": [
    "for i,edge in tqdm(enumerate(data)):\n",
    "  followers[i][0] = len(list(graph.predecessors(edge[0])))\n",
    "  followers[i][1] = len(list(graph.predecessors(edge[1])))"
   ]
  },
  {
   "cell_type": "markdown",
   "metadata": {
    "colab_type": "text",
    "id": "kI6cROJyI9nS"
   },
   "source": [
    "Followees of Source and Destination"
   ]
  },
  {
   "cell_type": "code",
   "execution_count": 0,
   "metadata": {
    "colab": {},
    "colab_type": "code",
    "id": "m56R9KwzJAAi"
   },
   "outputs": [],
   "source": [
    "followees = np.zeros(data.shape)"
   ]
  },
  {
   "cell_type": "code",
   "execution_count": 0,
   "metadata": {
    "colab": {
     "base_uri": "https://localhost:8080/",
     "height": 35
    },
    "colab_type": "code",
    "id": "KAWldj52JMx7",
    "outputId": "cff041a0-12ad-4108-c9b6-1879b10cbc4d"
   },
   "outputs": [
    {
     "name": "stderr",
     "output_type": "stream",
     "text": [
      "18875038it [07:01, 44812.33it/s]\n"
     ]
    }
   ],
   "source": [
    "for i,edge in tqdm(enumerate(data)):\n",
    "  followees[i][0] = len(list(graph.successors(edge[0])))\n",
    "  followees[i][1] = len(list(graph.successors(edge[1])))"
   ]
  },
  {
   "cell_type": "code",
   "execution_count": 0,
   "metadata": {
    "colab": {},
    "colab_type": "code",
    "id": "YgPxQKGpJZ6i"
   },
   "outputs": [],
   "source": [
    "writeVar(followers,\"followers.dat\",'uint32')\n",
    "writeVar(followees,\"followees.dat\",'uint32')"
   ]
  },
  {
   "cell_type": "markdown",
   "metadata": {
    "colab_type": "text",
    "id": "6sMTHaQajgy5"
   },
   "source": [
    "SVD Features"
   ]
  },
  {
   "cell_type": "code",
   "execution_count": 0,
   "metadata": {
    "colab": {},
    "colab_type": "code",
    "id": "F7V8iocckVH-"
   },
   "outputs": [],
   "source": [
    "# Matrix to hold the SVD Features\n",
    "svd_feature_matrix = np.zeros((data.shape[0],24))"
   ]
  },
  {
   "cell_type": "code",
   "execution_count": 0,
   "metadata": {
    "colab": {
     "base_uri": "https://localhost:8080/",
     "height": 35
    },
    "colab_type": "code",
    "id": "VLqMYA4uuzt1",
    "outputId": "629fc62a-9317-4bc6-e1a5-ed34689df45b"
   },
   "outputs": [
    {
     "data": {
      "text/plain": [
       "(18875038, 24)"
      ]
     },
     "execution_count": 9,
     "metadata": {
      "tags": []
     },
     "output_type": "execute_result"
    }
   ],
   "source": [
    "svd_feature_matrix.shape"
   ]
  },
  {
   "cell_type": "code",
   "execution_count": 0,
   "metadata": {
    "colab": {},
    "colab_type": "code",
    "id": "qShsT1dvkcUC"
   },
   "outputs": [],
   "source": [
    "# Adjacency matrix\n",
    "Adj = nx.adjacency_matrix(graph,nodelist=sorted(graph.nodes())).asfptype()"
   ]
  },
  {
   "cell_type": "code",
   "execution_count": 0,
   "metadata": {
    "colab": {},
    "colab_type": "code",
    "id": "z9z8e09qk-GG"
   },
   "outputs": [],
   "source": [
    "# Perform SVD Decomposition of Adjacency matrix\n",
    "U, s, V = svds(Adj, k = 6)"
   ]
  },
  {
   "cell_type": "code",
   "execution_count": 0,
   "metadata": {
    "colab": {},
    "colab_type": "code",
    "id": "pDOQNFALlPjK"
   },
   "outputs": [],
   "source": [
    "V_T = V.T"
   ]
  },
  {
   "cell_type": "code",
   "execution_count": 0,
   "metadata": {
    "colab": {
     "base_uri": "https://localhost:8080/",
     "height": 35
    },
    "colab_type": "code",
    "id": "DMtlEFYNlqvw",
    "outputId": "c174579c-002f-419d-d849-a4d4ca7fa683"
   },
   "outputs": [
    {
     "name": "stderr",
     "output_type": "stream",
     "text": [
      "18875038it [06:18, 49825.92it/s]\n"
     ]
    }
   ],
   "source": [
    "for i,edge in tqdm(enumerate(data)):\n",
    "  source = edge[0]\n",
    "  dest = edge[1]\n",
    "  feature1 = U[source-1]\n",
    "  feature2 = V_T[source-1]\n",
    "  feature3 = U[dest-1]\n",
    "  feature4 = V_T[dest-1]\n",
    "  svd_feature_matrix[i][0:6] = feature1\n",
    "  svd_feature_matrix[i][6:12] = feature2\n",
    "  svd_feature_matrix[i][12:18] = feature3\n",
    "  svd_feature_matrix[i][18:24] = feature4\n"
   ]
  },
  {
   "cell_type": "code",
   "execution_count": 0,
   "metadata": {
    "colab": {},
    "colab_type": "code",
    "id": "Am6cozlxv1It"
   },
   "outputs": [],
   "source": [
    "writeVar(svd_feature_matrix,\"svd_features.dat\",'float32')"
   ]
  },
  {
   "cell_type": "markdown",
   "metadata": {
    "colab_type": "text",
    "id": "9HDIZOp-Pg_z"
   },
   "source": [
    "SVD Dot Feature"
   ]
  },
  {
   "cell_type": "code",
   "execution_count": 0,
   "metadata": {
    "colab": {},
    "colab_type": "code",
    "id": "n6aZHe3PPjCe"
   },
   "outputs": [],
   "source": [
    "svd_dot_feature = np.zeros(data.shape)"
   ]
  },
  {
   "cell_type": "code",
   "execution_count": 0,
   "metadata": {
    "colab": {
     "base_uri": "https://localhost:8080/",
     "height": 35
    },
    "colab_type": "code",
    "id": "Ao8qcbhJPpoQ",
    "outputId": "ad59e8c3-18d3-4847-e4f2-003e674349fe"
   },
   "outputs": [
    {
     "name": "stderr",
     "output_type": "stream",
     "text": [
      "18875038it [06:42, 46941.47it/s]\n"
     ]
    }
   ],
   "source": [
    "for i,edge in tqdm(enumerate(data)):\n",
    "  source = edge[0]\n",
    "  dest = edge[1]\n",
    "  feature1 = U[source-1]\n",
    "  feature2 = V_T[source-1]\n",
    "  feature3 = U[dest-1]\n",
    "  feature4 = V_T[dest-1]\n",
    "  svd_dot_feature[i][0] = np.dot(feature1,feature3)\n",
    "  svd_dot_feature[i][1] = np.dot(feature2,feature4)"
   ]
  },
  {
   "cell_type": "code",
   "execution_count": 0,
   "metadata": {
    "colab": {},
    "colab_type": "code",
    "id": "xT4_MA2tQOSk"
   },
   "outputs": [],
   "source": [
    "writeVar(svd_dot_feature,\"svd_dot.dat\",'float32')"
   ]
  },
  {
   "cell_type": "code",
   "execution_count": 0,
   "metadata": {
    "colab": {},
    "colab_type": "code",
    "id": "h9J3i2w2QTFW"
   },
   "outputs": [],
   "source": [
    "# Combine all the features\n",
    "combined_features = np.hstack((jaccard_1,jaccard_2,cosine1,cosine2,page_rank_features,\n",
    "                               shortest_path,community,adar,follows_back,kartz_features,hubs_scores,\n",
    "                               authority_scores,followers,followees,svd_features,preferential,svd_dot))"
   ]
  },
  {
   "cell_type": "markdown",
   "metadata": {
    "colab_type": "text",
    "id": "35dF_m4S2xX3"
   },
   "source": [
    "Preferential Attachment Feature<br>\n",
    "The preferential attachment of two vertices is calculated as the multiplication of the number of followers(i.e. successors) of each vertex"
   ]
  },
  {
   "cell_type": "code",
   "execution_count": 0,
   "metadata": {
    "colab": {},
    "colab_type": "code",
    "id": "O44XEOE32384"
   },
   "outputs": [],
   "source": [
    "def pref_attachment(a,b):\n",
    "  succ_a = len(list(graph.predecessors(a)))\n",
    "  succ_b = len(list(graph.predecessors(b)))\n",
    "  return succ_a*succ_b"
   ]
  },
  {
   "cell_type": "code",
   "execution_count": 0,
   "metadata": {
    "colab": {},
    "colab_type": "code",
    "id": "VGVhj9LO36Yu"
   },
   "outputs": [],
   "source": [
    "preferential = np.zeros(labels.shape)"
   ]
  },
  {
   "cell_type": "code",
   "execution_count": 0,
   "metadata": {
    "colab": {
     "base_uri": "https://localhost:8080/",
     "height": 35
    },
    "colab_type": "code",
    "id": "G3tQzAIZ30qX",
    "outputId": "ac17b619-eb6e-4b1f-9559-b2385e3c6f37"
   },
   "outputs": [
    {
     "name": "stderr",
     "output_type": "stream",
     "text": [
      "18875038it [06:36, 47548.85it/s]\n"
     ]
    }
   ],
   "source": [
    "for i,edge in tqdm(enumerate(data)):\n",
    "  preferential[i] = pref_attachment(edge[0],edge[1])"
   ]
  },
  {
   "cell_type": "code",
   "execution_count": 0,
   "metadata": {
    "colab": {},
    "colab_type": "code",
    "id": "cToQlFnJ4LY2"
   },
   "outputs": [],
   "source": [
    "writeVar(preferential,\"pref.dat\",'uint32')"
   ]
  },
  {
   "cell_type": "markdown",
   "metadata": {
    "colab_type": "text",
    "id": "cbQRHfCSnvkW"
   },
   "source": [
    "## Exploratory Data Analysis"
   ]
  },
  {
   "cell_type": "code",
   "execution_count": 3,
   "metadata": {
    "colab": {
     "base_uri": "https://localhost:8080/",
     "height": 388
    },
    "colab_type": "code",
    "id": "mNV1Ec6Gn0uM",
    "outputId": "1107bd49-c03d-4b5f-b0aa-e3a955b10383"
   },
   "outputs": [
    {
     "data": {
      "image/png": "[encoded data removed]",
      "text/plain": [
       "<Figure size 720x432 with 1 Axes>"
      ]
     },
     "metadata": {
      "needs_background": "light",
      "tags": []
     },
     "output_type": "display_data"
    }
   ],
   "source": [
    "indegree_dist = list(dict(graph.in_degree()).values())\n",
    "indegree_dist.sort()\n",
    "plt.figure(figsize=(10,6))\n",
    "plt.plot(indegree_dist)\n",
    "plt.xlabel('Index No')\n",
    "plt.ylabel('No Of Followers')\n",
    "plt.show()"
   ]
  },
  {
   "cell_type": "code",
   "execution_count": 8,
   "metadata": {
    "colab": {
     "base_uri": "https://localhost:8080/",
     "height": 388
    },
    "colab_type": "code",
    "id": "LgsvDyTi4f7N",
    "outputId": "e8d2a5cf-1b36-4745-c7ff-11aabdc34f4c"
   },
   "outputs": [
    {
     "data": {
      "image/png": "[encoded data removed]",
      "text/plain": [
       "<Figure size 720x432 with 1 Axes>"
      ]
     },
     "metadata": {
      "needs_background": "light",
      "tags": []
     },
     "output_type": "display_data"
    }
   ],
   "source": [
    "indegree_dist = list(dict(graph.in_degree()).values())\n",
    "indegree_dist.sort()\n",
    "plt.figure(figsize=(10,6))\n",
    "plt.plot(indegree_dist[0:1500000])\n",
    "plt.xlabel('Index No')\n",
    "plt.ylabel('No Of Followers')\n",
    "plt.show()"
   ]
  },
  {
   "cell_type": "code",
   "execution_count": 5,
   "metadata": {
    "colab": {
     "base_uri": "https://localhost:8080/",
     "height": 388
    },
    "colab_type": "code",
    "id": "xZ_jC-fv4CaX",
    "outputId": "be44e88b-b85a-42ed-b8b3-153127052326"
   },
   "outputs": [
    {
     "data": {
      "image/png": "[encoded data removed]",
      "text/plain": [
       "<Figure size 720x432 with 1 Axes>"
      ]
     },
     "metadata": {
      "needs_background": "light",
      "tags": []
     },
     "output_type": "display_data"
    }
   ],
   "source": [
    "outdegree_dist = list(dict(graph.out_degree()).values())\n",
    "outdegree_dist.sort()\n",
    "plt.figure(figsize=(10,6))\n",
    "plt.plot(outdegree_dist)\n",
    "plt.xlabel('Index No')\n",
    "plt.ylabel('No Of people each person is following')\n",
    "plt.show()"
   ]
  },
  {
   "cell_type": "code",
   "execution_count": 9,
   "metadata": {
    "colab": {
     "base_uri": "https://localhost:8080/",
     "height": 388
    },
    "colab_type": "code",
    "id": "-k6W1R7J4hSm",
    "outputId": "afe5f214-001e-4286-8e9c-720b830ebff2"
   },
   "outputs": [
    {
     "data": {
      "image/png": "[encoded data removed]",
      "text/plain": [
       "<Figure size 720x432 with 1 Axes>"
      ]
     },
     "metadata": {
      "needs_background": "light",
      "tags": []
     },
     "output_type": "display_data"
    }
   ],
   "source": [
    "indegree_dist = list(dict(graph.in_degree()).values())\n",
    "indegree_dist.sort()\n",
    "plt.figure(figsize=(10,6))\n",
    "plt.plot(outdegree_dist[0:1500000])\n",
    "plt.xlabel('Index No')\n",
    "plt.ylabel('No Of people each person is following')\n",
    "plt.show()"
   ]
  },
  {
   "cell_type": "markdown",
   "metadata": {
    "colab_type": "text",
    "id": "GrX21Vw9l_Z4"
   },
   "source": [
    "<br>"
   ]
  },
  {
   "cell_type": "markdown",
   "metadata": {
    "colab_type": "text",
    "id": "ZBILd-xaTTCc"
   },
   "source": [
    "<h2>\n",
    "Split the data as:<br>\n",
    "Training: 80%<br>\n",
    "Test: 10%<br>\n",
    "Cross Validation: 10%\n",
    "</h2>"
   ]
  },
  {
   "cell_type": "code",
   "execution_count": 0,
   "metadata": {
    "colab": {},
    "colab_type": "code",
    "id": "ecO_eODMTb8S"
   },
   "outputs": [],
   "source": [
    "X_train, X_temp, y_train, y_temp = train_test_split(combined_features, labels, test_size=0.2, random_state=10,stratify=labels)\n",
    "X_cv, X_test, y_cv, y_test = train_test_split(X_temp, y_temp, test_size=0.5, random_state=20,stratify=y_temp)"
   ]
  },
  {
   "cell_type": "markdown",
   "metadata": {
    "colab_type": "text",
    "id": "bCSbkeSzmZ5H"
   },
   "source": [
    "<br>"
   ]
  },
  {
   "cell_type": "markdown",
   "metadata": {
    "colab_type": "text",
    "id": "BBL97ueteBoQ"
   },
   "source": [
    "## Performing Hyperparameter Tuning of XGBoost using Bayesian Optimization \n",
    "We want hyper-parameters that will maximize the F1-Score"
   ]
  },
  {
   "cell_type": "markdown",
   "metadata": {
    "colab_type": "text",
    "id": "EYBNvheTpX_0"
   },
   "source": [
    "Get the Values of the Best Hyper Parameters giving highest F1 Score"
   ]
  },
  {
   "cell_type": "markdown",
   "metadata": {
    "colab_type": "text",
    "id": "WvETOZ9x7CrH"
   },
   "source": [
    "The Objective is to get the hyper-parameters that will maximize the F1 Score.<br>\n",
    "In other words this is similar to minimizing (-1 * F1-Score)"
   ]
  },
  {
   "cell_type": "code",
   "execution_count": 0,
   "metadata": {
    "colab": {
     "base_uri": "https://localhost:8080/",
     "height": 35
    },
    "colab_type": "code",
    "id": "OyricGvujN5b",
    "outputId": "2269e823-c3aa-4825-cea6-92bb3bb9bf4a"
   },
   "outputs": [
    {
     "name": "stdout",
     "output_type": "stream",
     "text": [
      "100%|██████████| 10/10 [06:31<00:00, 39.15s/it, best loss: -99.10595678950175]\n"
     ]
    }
   ],
   "source": [
    "def objective(hyperparameters):\n",
    "  MAX_DEPTH = int(hyperparameters.get(\"max_depth\"))\n",
    "  MIN_CHILD_WT = hyperparameters.get(\"min_child_weight\")\n",
    "  LEARNING_RATE = hyperparameters.get(\"learning_rate\")\n",
    "  SUBSAMPLE = hyperparameters.get(\"subsample\")\n",
    "  GAMMA = hyperparameters.get(\"gamma\")\n",
    "  COLSAM = hyperparameters.get(\"colsample_bytree\")\n",
    "  REGALPHA = hyperparameters.get(\"reg_alpha\")\n",
    "  N_ESTIM = hyperparameters.get(\"n_estimators\")\n",
    "\n",
    "  model = XGBClassifier(learning_rate=LEARNING_RATE,max_depth=MAX_DEPTH,\n",
    "                        min_child_weight=MIN_CHILD_WT,subsample=SUBSAMPLE,gamma=GAMMA,\n",
    "                        colsample_bytree=COLSAM,reg_alpha=REGALPHA,n_estimators=N_ESTIM,tree_method='gpu_hist')\n",
    "  model.fit(X_train, y_train)\n",
    "  y_pred = model.predict(X_cv)\n",
    "  predictions = [round(value) for value in y_pred]\n",
    "  f1 = f1_score(y_cv, predictions)\n",
    "  f1 = f1 * 100.0 * -1\n",
    "  return {'loss':f1, 'params':hyperparameters, 'status':STATUS_OK}\n",
    "\n",
    "space = {\n",
    "  'max_depth': hp.quniform('max_depth', 2, 10, 1),\n",
    "  'min_child_weight': hp.quniform('min_child_weight', 1, 10, 1),\n",
    "  'learning_rate': hp.uniform('learning_rate', 0.1, 1.0),\n",
    "  'subsample': hp.uniform('subsample', 0.0, 1.0),\n",
    "  'gamma': hp.uniform ('gamma', 1,9),\n",
    "  'colsample_bytree' : hp.uniform('colsample_bytree', 0.1,1),\n",
    "  'reg_alpha' : hp.quniform('reg_alpha', 1,180,1),\n",
    "  'n_estimators' : hp.choice('n_estimators', np.arange(1, 301, dtype=int))\n",
    "}\n",
    "\n",
    "MAX_EVALS = 10\n",
    "tpe_algorithm = tpe.suggest\n",
    "bayes_trials = Trials()\n",
    "best = fmin(fn = objective, space = space, algo = tpe.suggest, max_evals = MAX_EVALS, trials = bayes_trials)"
   ]
  },
  {
   "cell_type": "code",
   "execution_count": 0,
   "metadata": {
    "colab": {},
    "colab_type": "code",
    "id": "E0dKEc5Fpg4W"
   },
   "outputs": [],
   "source": [
    "MAX_DEPTH = int(best.get(\"max_depth\"))\n",
    "MIN_CHILD_WT = int(best.get(\"min_child_weight\"))\n",
    "LEARNING_RATE = float(best.get(\"learning_rate\"))\n",
    "SUBSAMPLE = float(best.get(\"subsample\"))\n",
    "GAMMA = float(best.get(\"gamma\"))\n",
    "COLSAM = float(best.get(\"colsample_bytree\"))\n",
    "REGALPHA = int(best.get(\"reg_alpha\"))\n",
    "N_ESTIM = int(best.get(\"n_estimators\"))"
   ]
  },
  {
   "cell_type": "code",
   "execution_count": 9,
   "metadata": {
    "colab": {
     "base_uri": "https://localhost:8080/",
     "height": 173
    },
    "colab_type": "code",
    "id": "nz46C-pWvwha",
    "outputId": "99456e9a-5160-44fc-8999-94d26fa556ce"
   },
   "outputs": [
    {
     "name": "stdout",
     "output_type": "stream",
     "text": [
      "Best hyper params are:\n",
      "Max Depth: 8\n",
      "Min Child Weight: 2\n",
      "Learning Rate: 0.7863882061175492\n",
      "Subsample: 0.30818390159730535\n",
      "Gamma: 1.165671352514594\n",
      "Columnsample bytree: 0.2553377093803131\n",
      "Reg Alpha: 55\n",
      "Number of Estimators: 263\n"
     ]
    }
   ],
   "source": [
    "# Best hyper-param values obtained from bayesian optimization\n",
    "print(\"Best hyper params are:\\nMax Depth: {}\\nMin Child Weight: {}\\nLearning Rate: {}\\n\\\n",
    "Subsample: {}\\nGamma: {}\\nColumnsample bytree: {}\\nReg Alpha: {}\\nNumber of Estimators: {}\".format( \\\n",
    "    MAX_DEPTH,MIN_CHILD_WT,LEARNING_RATE,SUBSAMPLE,GAMMA,COLSAM,REGALPHA,N_ESTIM \\\n",
    "))"
   ]
  },
  {
   "cell_type": "markdown",
   "metadata": {
    "colab_type": "text",
    "id": "9XVIrQBwSBw9"
   },
   "source": [
    "Training an XGBoost Classifier with the optimal Hyperparameters"
   ]
  },
  {
   "cell_type": "code",
   "execution_count": 0,
   "metadata": {
    "colab": {},
    "colab_type": "code",
    "id": "a48_zY38SzKY"
   },
   "outputs": [],
   "source": [
    "model = XGBClassifier(learning_rate=LEARNING_RATE,max_depth=MAX_DEPTH,\n",
    "                        min_child_weight=MIN_CHILD_WT,subsample=SUBSAMPLE,gamma=GAMMA,\n",
    "                        colsample_bytree=COLSAM,reg_alpha=REGALPHA,n_estimators=N_ESTIM,tree_method='gpu_hist')"
   ]
  },
  {
   "cell_type": "code",
   "execution_count": 0,
   "metadata": {
    "colab": {
     "base_uri": "https://localhost:8080/",
     "height": 156
    },
    "colab_type": "code",
    "id": "XCaxVQIHhjUs",
    "outputId": "b8879144-faf8-48b7-d14e-9d9d1a192976"
   },
   "outputs": [
    {
     "data": {
      "text/plain": [
       "XGBClassifier(base_score=0.5, booster='gbtree', colsample_bylevel=1,\n",
       "              colsample_bynode=1, colsample_bytree=0.7026926395464955,\n",
       "              gamma=4.724164390158622, learning_rate=0.8914769400792811,\n",
       "              max_delta_step=0, max_depth=10, min_child_weight=7, missing=None,\n",
       "              n_estimators=167, n_jobs=1, nthread=None,\n",
       "              objective='binary:logistic', random_state=0, reg_alpha=74,\n",
       "              reg_lambda=1, scale_pos_weight=1, seed=None, silent=None,\n",
       "              subsample=0.569836698505629, tree_method='gpu_hist', verbosity=1)"
      ]
     },
     "execution_count": 10,
     "metadata": {
      "tags": []
     },
     "output_type": "execute_result"
    }
   ],
   "source": [
    "model.fit(X_train,y_train)"
   ]
  },
  {
   "cell_type": "code",
   "execution_count": 0,
   "metadata": {
    "colab": {},
    "colab_type": "code",
    "id": "i2hXfQZui3z_"
   },
   "outputs": [],
   "source": [
    "# Storing the best model\n",
    "dump(model,open('best_model.p','wb'))"
   ]
  },
  {
   "cell_type": "code",
   "execution_count": 0,
   "metadata": {
    "colab": {},
    "colab_type": "code",
    "id": "WirW69tGjeUv"
   },
   "outputs": [],
   "source": [
    "best_model = load(open('best_model.p','rb'))"
   ]
  },
  {
   "cell_type": "code",
   "execution_count": 0,
   "metadata": {
    "colab": {},
    "colab_type": "code",
    "id": "rFWKJICEoAUz"
   },
   "outputs": [],
   "source": [
    "important_features = best_model.feature_importances_\n",
    "indices = (np.argsort(feat))[-10:]"
   ]
  },
  {
   "cell_type": "code",
   "execution_count": 40,
   "metadata": {
    "colab": {
     "base_uri": "https://localhost:8080/",
     "height": 730
    },
    "colab_type": "code",
    "id": "8RMcpfILoGEL",
    "outputId": "3a4e8a72-f997-4755-c81b-6338a62e99a6"
   },
   "outputs": [
    {
     "data": {
      "image/png": "[encoded data removed]",
      "text/plain": [
       "<Figure size 720x864 with 1 Axes>"
      ]
     },
     "metadata": {
      "needs_background": "light",
      "tags": []
     },
     "output_type": "display_data"
    }
   ],
   "source": [
    "plt.figure(figsize=(10,12))\n",
    "plt.title('Feature Importances')\n",
    "plt.barh(range(len(indices)), important_features[indices], color='r', align='center')\n",
    "plt.yticks(range(len(indices)), [FEATURES[i] for i in indices])\n",
    "plt.xlabel('Relative Importance')\n",
    "plt.show()"
   ]
  },
  {
   "cell_type": "code",
   "execution_count": 0,
   "metadata": {
    "colab": {},
    "colab_type": "code",
    "id": "XY1zQox5W5xs"
   },
   "outputs": [],
   "source": [
    "y_train_pred = best_model.predict(X_train)\n",
    "y_test_pred = best_model.predict(X_test)"
   ]
  },
  {
   "cell_type": "code",
   "execution_count": 0,
   "metadata": {
    "colab": {},
    "colab_type": "code",
    "id": "VE-HnVbLXYL6"
   },
   "outputs": [],
   "source": [
    "def plot_confusion_matrix(test_y, predict_y):\n",
    "  C = confusion_matrix(test_y, predict_y)\n",
    "    \n",
    "  A =(((C.T)/(C.sum(axis=1))).T)\n",
    "    \n",
    "  B =(C/C.sum(axis=0))\n",
    "  plt.figure(figsize=(20,4))\n",
    "    \n",
    "  labels = [0,1]\n",
    "  # representing A in heatmap format\n",
    "  cmap=sns.light_palette(\"blue\")\n",
    "  plt.subplot(1, 3, 1)\n",
    "  sns.heatmap(C, annot=True, cmap=cmap, fmt=\".3f\", xticklabels=labels, yticklabels=labels)\n",
    "  plt.xlabel('Predicted Class')\n",
    "  plt.ylabel('Original Class')\n",
    "  plt.title(\"Confusion matrix\")\n",
    "    \n",
    "  plt.subplot(1, 3, 2)\n",
    "  sns.heatmap(B, annot=True, cmap=cmap, fmt=\".3f\", xticklabels=labels, yticklabels=labels)\n",
    "  plt.xlabel('Predicted Class')\n",
    "  plt.ylabel('Original Class')\n",
    "  plt.title(\"Precision matrix\")\n",
    "    \n",
    "  plt.subplot(1, 3, 3)\n",
    "  # representing B in heatmap format\n",
    "  sns.heatmap(A, annot=True, cmap=cmap, fmt=\".3f\", xticklabels=labels, yticklabels=labels)\n",
    "  plt.xlabel('Predicted Class')\n",
    "  plt.ylabel('Original Class')\n",
    "  plt.title(\"Recall matrix\")\n",
    "    \n",
    "  plt.show()"
   ]
  },
  {
   "cell_type": "code",
   "execution_count": 0,
   "metadata": {
    "colab": {
     "base_uri": "https://localhost:8080/",
     "height": 52
    },
    "colab_type": "code",
    "id": "Lu2L-is2BDMf",
    "outputId": "ea1b0452-17a7-459f-d95b-fa6e0461f1e9"
   },
   "outputs": [
    {
     "name": "stdout",
     "output_type": "stream",
     "text": [
      "Training accuracy is: \n",
      "0.9922265717352879\n"
     ]
    }
   ],
   "source": [
    "print(\"Training accuracy is: \\n{}\".format(accuracy_score(y_train,y_train_pred)))"
   ]
  },
  {
   "cell_type": "code",
   "execution_count": 0,
   "metadata": {
    "colab": {
     "base_uri": "https://localhost:8080/",
     "height": 52
    },
    "colab_type": "code",
    "id": "4TQ4_48Ik4LA",
    "outputId": "aa1fd75f-1e84-4120-97c6-46fd9095e909"
   },
   "outputs": [
    {
     "name": "stdout",
     "output_type": "stream",
     "text": [
      "Training F1-Score is: \n",
      "0.9922228732295673\n"
     ]
    }
   ],
   "source": [
    "print(\"Training F1-Score is: \\n{}\".format(f1_score(y_train,y_train_pred)))"
   ]
  },
  {
   "cell_type": "code",
   "execution_count": 0,
   "metadata": {
    "colab": {
     "base_uri": "https://localhost:8080/",
     "height": 243
    },
    "colab_type": "code",
    "id": "XhnUeb4IsNdq",
    "outputId": "16581c4a-76be-4a0b-9d1c-55f3e41d0549"
   },
   "outputs": [
    {
     "name": "stdout",
     "output_type": "stream",
     "text": [
      "Train confusion_matrix\n"
     ]
    },
    {
     "data": {
      "image/png": "[encoded data removed]",
      "text/plain": [
       "<Figure size 1440x288 with 6 Axes>"
      ]
     },
     "metadata": {
      "needs_background": "light",
      "tags": []
     },
     "output_type": "display_data"
    }
   ],
   "source": [
    "print('Train confusion_matrix')\n",
    "plot_confusion_matrix(y_train,y_train_pred)"
   ]
  },
  {
   "cell_type": "markdown",
   "metadata": {
    "colab_type": "text",
    "id": "TyoxeYOslGAU"
   },
   "source": [
    "<br>"
   ]
  },
  {
   "cell_type": "code",
   "execution_count": 0,
   "metadata": {
    "colab": {
     "base_uri": "https://localhost:8080/",
     "height": 52
    },
    "colab_type": "code",
    "id": "smAL92zzBEFC",
    "outputId": "1bdf2ccd-79cb-4a98-dddb-44a89ff87fa0"
   },
   "outputs": [
    {
     "name": "stdout",
     "output_type": "stream",
     "text": [
      "Testing accuracy is: \n",
      "0.9912111444532038\n"
     ]
    }
   ],
   "source": [
    "print(\"Testing accuracy is: \\n{}\".format(accuracy_score(y_test,y_test_pred)))"
   ]
  },
  {
   "cell_type": "code",
   "execution_count": 0,
   "metadata": {
    "colab": {
     "base_uri": "https://localhost:8080/",
     "height": 52
    },
    "colab_type": "code",
    "id": "uWP4Z2kZlQNy",
    "outputId": "cbcde43d-5dc3-4430-de59-c8bcf4d44c41"
   },
   "outputs": [
    {
     "name": "stdout",
     "output_type": "stream",
     "text": [
      "Testing F1-Score is: \n",
      "0.9912064809862481\n"
     ]
    }
   ],
   "source": [
    "print(\"Testing F1-Score is: \\n{}\".format(f1_score(y_test,y_test_pred)))"
   ]
  },
  {
   "cell_type": "code",
   "execution_count": 0,
   "metadata": {
    "colab": {
     "base_uri": "https://localhost:8080/",
     "height": 243
    },
    "colab_type": "code",
    "id": "bK48BJsxvjoN",
    "outputId": "5be74f7c-8508-4143-cef3-d872f9253147"
   },
   "outputs": [
    {
     "name": "stdout",
     "output_type": "stream",
     "text": [
      "Test confusion_matrix\n"
     ]
    },
    {
     "data": {
      "image/png": "[encoded data removed]",
      "text/plain": [
       "<Figure size 1440x288 with 6 Axes>"
      ]
     },
     "metadata": {
      "needs_background": "light",
      "tags": []
     },
     "output_type": "display_data"
    }
   ],
   "source": [
    "print('Test confusion_matrix')\n",
    "plot_confusion_matrix(y_test,y_test_pred)"
   ]
  }
 ],
 "metadata": {
  "accelerator": "GPU",
  "colab": {
   "collapsed_sections": [],
   "name": "AAI17_GraphLinkPrediction.ipynb",
   "provenance": [],
   "toc_visible": true
  },
  "kernelspec": {
   "display_name": "Python 3",
   "language": "python",
   "name": "python3"
  },
  "language_info": {
   "codemirror_mode": {
    "name": "ipython",
    "version": 3
   },
   "file_extension": ".py",
   "mimetype": "text/x-python",
   "name": "python",
   "nbconvert_exporter": "python",
   "pygments_lexer": "ipython3",
   "version": "3.7.4"
  }
 },
 "nbformat": 4,
 "nbformat_minor": 1
}
